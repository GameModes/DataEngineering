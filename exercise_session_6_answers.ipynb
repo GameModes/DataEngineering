{
 "cells": [
  {
   "cell_type": "markdown",
   "id": "7ba94523",
   "metadata": {},
   "source": [
    "# Developing an ontology\n",
    "A possible development process:\n",
    "1. Analyze the domain and the goal of the ontology\n",
    "2. Consider to reuse existing ontologies\n",
    "3. Determine the key concepts of the domain\n",
    "4. Organize concepts in classes and hierarchies among classes and properties\n",
    "5. Determine the properties of the classes\n",
    "6. Add constraints (allowed values) on the properties\n",
    "7. Create the instances\n",
    "8. Assign values to the properties for each instance"
   ]
  },
  {
   "cell_type": "markdown",
   "id": "e51c97e2",
   "metadata": {},
   "source": [
    "A guide for ontology development can be found here: https://perso.liris.cnrs.fr/alain.mille/enseignements/Ecole_Centrale/What%20is%20an%20ontology%20and%20why%20we%20need%20it.htm"
   ]
  },
  {
   "cell_type": "markdown",
   "id": "a7fa9765",
   "metadata": {},
   "source": [
    "# Ontology modeling \n",
    "\n",
    "Model the domain of geographical entities using OWL. \n",
    "\n",
    "1. What are the classes? \n",
    "2. What are the object and data type properties ?\n",
    "3. Create object/data property axioms.\n",
    "4. Create class axioms. \n",
    "    4.1. Create class axioms that involve someValuesFrom and allValuesFrom properties.  \n",
    "    4.2. Create class axioms that involve (qualified) cardinality restrictions.  \n",
    "5. Add instance/individuals to the ontology. \n",
    "6. Add negative property assertions to the ontology. \n",
    "\n"
   ]
  },
  {
   "cell_type": "markdown",
   "id": "bc8afec4",
   "metadata": {},
   "source": [
    "# Object property axioms\n"
   ]
  },
  {
   "cell_type": "markdown",
   "id": "c5bbf6dd",
   "metadata": {},
   "source": [
    "Answer the following questions using the ontology (called <b>mythology.owl</b>) given below:\n",
    "\n",
    "     @prefix ex:  <http://example.org/>.\n",
    "     @prefix rdf: <http://www.w3.org/1999/02/22-rdf-syntax-ns#>.\n",
    "     @prefix rdfs: <http://www.w3.org/2000/01/rdf-schema#>.\n",
    "     @prefix xsd: <http://www.w3.org/2001/XMLSchema#>.\n",
    "     ex:CuChulainn ex:knownAs [ ex:name \"Cú Chulainn\" ; ex:meaning \"Culann's Hound\"@en ] ;\n",
    "         ex:father ex:Lugh ;\n",
    "         ex:describedIn ex:UlsterCycle .\n",
    "     ex:Setanta ex:knownAs [ ex:name \"Sétanta\" ] .\n",
    "     ex:Lugh ex:knownAs [ ex:name \"Lugh\" ; ex:meaning \"Flashing light\"@en ] , [ ex:name \"Ildanach\" ] ;\n",
    "         ex:onlyChild ex:CuChulainn , ex:Setanta ;\n",
    "         ex:father ex:Cian ;\n",
    "         ex:mother ex:Ethniu ;\n",
    "         ex:describedIn ex:UlsterCycle , ex:MythologicalCycle .\n",
    "     ex:Cian a ex:FirstBorn ; ex:knownAs [ ex:name \"Cian\" ; ex:meaning \"Enduring one\"@en ] ;\n",
    "         ex:consort ex:Ethniu ;\n",
    "         ex:sibling ex:Cu , ex:Cethen ;\n",
    "         ex:describedIn ex:MythologicalCycle .\n",
    "     ex:ScalBalb a ex:FirstBorn ; ex:knownAs [ ex:name \"Scal Balb\" ; ex:meaning \"Mute champion\"@en ] ;\n",
    "         ex:sibling ex:Cu , ex:Cethen , ex:Cian  .\n",
    "     ex:Cu ex:knownAs [ ex:name \"Cú\" ; ex:meaning \"Hound\" ] ; ex:sibling ex:Cethen , ex:Cian .\n",
    "     ex:Ethniu ex:knownAs [ ex:name \"Ethniu\" ] ;\n",
    "         ex:father ex:Balor ;\n",
    "         ex:describedIn ex:MythologicalCycle .\n",
    "     ex:Balor ex:knownAs [ ex:name \"Balor\" ] ,\n",
    "         [ ex:name \"Balór na Súile Nimhe\"@ga ; ex:meaning \"Balor of the Evil Eye\"@en ] ;\n",
    "         ex:describedIn ex:MythologicalCycle .\n",
    "     ex:IrishMythology ex:dividedIn ex:MythologicalCycle , ex:UlsterCycle , ex:FenianCycle , ex:CyclesOfTheKings .\n",
    "     ex:MythologicalCycle ex:followedBy ex:UlsterCycle .\n",
    "     ex:FenianCycle ex:precededBy ex:UlsterCycle .\n",
    "     ex:CyclesOfTheKings ex:precededBy ex:FenianCycle . \n",
    "\n",
    "\n",
    "Use the Python OWL-RL library to verify your answers."
   ]
  },
  {
   "cell_type": "markdown",
   "id": "9d2d7a30",
   "metadata": {},
   "source": [
    "### Exercise 1: What can be inferred if we add the following axioms?"
   ]
  },
  {
   "cell_type": "markdown",
   "id": "72851c88",
   "metadata": {},
   "source": [
    "       ex:father rdfs:subPropertyOf ex:parent .\n",
    "       ex:mother rdfs:subPropertyOf ex:parent ."
   ]
  },
  {
   "cell_type": "markdown",
   "id": "1f376117",
   "metadata": {},
   "source": [
    "Answer"
   ]
  },
  {
   "cell_type": "code",
   "execution_count": 2,
   "id": "f954795d",
   "metadata": {},
   "outputs": [
    {
     "name": "stdout",
     "output_type": "stream",
     "text": [
      "http://example.org/Lugh http://example.org/Ethniu\n",
      "http://example.org/Ethniu http://example.org/Balor\n",
      "http://example.org/CuChulainn http://example.org/Lugh\n",
      "http://example.org/Lugh http://example.org/Cian\n"
     ]
    }
   ],
   "source": [
    "from rdflib import Graph, URIRef, Literal, Namespace\n",
    "import owlrl.RDFSClosure\n",
    "from rdflib.namespace import RDF, OWL, RDFS\n",
    "\n",
    "g = Graph()\n",
    "g.parse(\"mythology.owl\", format='turtle')\n",
    "# rdfs reasoning\n",
    "#rdfs = owlrl.RDFSClosure.RDFS_Semantics(g, False, False, False)\n",
    "#rdfs.closure()\n",
    "#rdfs.flush_stored_triples()\n",
    "\n",
    "query = \"\"\"\n",
    "PREFIX rdf: <http://www.w3.org/1999/02/22-rdf-syntax-ns#>\n",
    "PREFIX rdfs: <http://www.w3.org/2000/01/rdf-schema#>\n",
    "PREFIX ex: <http://example.org/>\n",
    "SELECT ?s ?o\n",
    "WHERE\n",
    "{\n",
    "?s ex:parent ?o .\n",
    "}\n",
    "\"\"\"\n",
    "qresult = g.query(query)\n",
    "for row in qresult:\n",
    "    print(row[0])\n",
    "ex = Namespace(\"http://example.org/\")\n",
    "g.bind(\"ex\", ex)\n",
    "g.bind(\"rdfs\", RDFS)\n",
    "\n",
    "g.add((ex.father, RDFS.subPropertyOf, ex.parent))\n",
    "g.add((ex.mother, RDFS.subPropertyOf, ex.parent))\n",
    "\n",
    "# owl reasoning\n",
    "owl = owlrl.CombinedClosure.RDFS_OWLRL_Semantics(g, False, False, False)\n",
    "owl.closure()\n",
    "owl.flush_stored_triples()\n",
    "qresult = g.query(query)\n",
    "for row in qresult:\n",
    "    print(row[0],row[1])"
   ]
  },
  {
   "cell_type": "markdown",
   "id": "79f6bc46",
   "metadata": {},
   "source": [
    "### Exercise 2: Add one OWL axiom to infer the following:"
   ]
  },
  {
   "cell_type": "markdown",
   "id": "bc1ec819",
   "metadata": {},
   "source": [
    "       ex:Lugh ex:child ex:CuChulainn .\n",
    "       ex:Cian ex:child ex:Lugh .\n",
    "       ex:Etniu ex:child ex:Lugh .  \n",
    "       ex:Balor ex:child ex:Etniu ."
   ]
  },
  {
   "cell_type": "markdown",
   "id": "3543f558",
   "metadata": {},
   "source": [
    "Answer"
   ]
  },
  {
   "cell_type": "markdown",
   "id": "5e9b3919",
   "metadata": {},
   "source": [
    "       ex:parent owl:inverseOf ex:child ."
   ]
  },
  {
   "cell_type": "markdown",
   "id": "612ef693",
   "metadata": {},
   "source": [
    "### Exercise 3: Add one OWL axiom to infer the following:"
   ]
  },
  {
   "cell_type": "markdown",
   "id": "2606f628",
   "metadata": {},
   "source": [
    "    ex:UlsterCycle ex:precededBy ex:MythologicalCycle .\n",
    "    ex:UlsterCycle ex:followedBy ex:FenianCycle .\n",
    "    ex:FenianCycle ex:followedBy ex:CyclesOfTheKings ."
   ]
  },
  {
   "cell_type": "markdown",
   "id": "3fd25fb4",
   "metadata": {},
   "source": [
    "Answer: \n",
    "\n",
    "    ex:precededBy owl:inverseOf ex:followedBy ."
   ]
  },
  {
   "cell_type": "markdown",
   "id": "64bcabc3",
   "metadata": {},
   "source": [
    "### Exercise 4: Add one OWL axiom to infer the following:"
   ]
  },
  {
   "cell_type": "markdown",
   "id": "5cc020d2",
   "metadata": {},
   "source": [
    "    ex:Ethniu ex:consort ex:Cian ."
   ]
  },
  {
   "cell_type": "markdown",
   "id": "d2bb8114",
   "metadata": {},
   "source": [
    "Answer:\n",
    "\n",
    "    ex:consort a owl:SymmetricProperty .\n"
   ]
  },
  {
   "cell_type": "markdown",
   "id": "8d8d7e32",
   "metadata": {},
   "source": [
    "### Exercise 5"
   ]
  },
  {
   "cell_type": "markdown",
   "id": "baea8325",
   "metadata": {},
   "source": [
    "Add one OWL axiom to state that someone cannot be a sibling of themselves."
   ]
  },
  {
   "cell_type": "markdown",
   "id": "3ec627dd",
   "metadata": {},
   "source": [
    "Answer:\n",
    "\n",
    "    ex:sibling a owl:IrreflexiveProperty .\n"
   ]
  },
  {
   "cell_type": "markdown",
   "id": "7a57cbef",
   "metadata": {},
   "source": [
    "### Exercise 6: Add one OWL axiom to infer the triple:"
   ]
  },
  {
   "cell_type": "markdown",
   "id": "4e9ebbca",
   "metadata": {},
   "source": [
    "    ex:Lugh ex:maternalGrandparent ex:Balor ."
   ]
  },
  {
   "cell_type": "markdown",
   "id": "2adf84c0",
   "metadata": {},
   "source": [
    "Answer:\n",
    "\n",
    "        ex:maternalGrandparent owl:propertyChainAxiom ( ex:mother ex:parent ) ."
   ]
  },
  {
   "cell_type": "markdown",
   "id": "98aa099d",
   "metadata": {},
   "source": [
    "#  Protégé – Ontology Editor\n"
   ]
  },
  {
   "cell_type": "markdown",
   "id": "224f6380",
   "metadata": {},
   "source": [
    "• Download and install Protégé from https://protege.stanford.edu/ \n",
    "\n",
    "• Follow the tutorial in [1] to learn how to use Protégé\n",
    "\n",
    "[1] Horridge, Matthew, et al. \"A practical guide to building owl ontologies using protégé 4 and co- ode tools edition1. 2.\" The university of Manchester 107 (2009). https://people.cs.vt.edu/~kafura/ComputationalThinking/Class-Notes/Tutorial-Highlighted-Day1.pdf\n",
    "\n",
    "Also here is a video tutorial:\n",
    "https://www.youtube.com/watch?v=LQ4iW3PO36E\n",
    "\n",
    "You can also find an addtional tutorial here http://protegeproject.github.io/protege/getting-started/"
   ]
  },
  {
   "cell_type": "markdown",
   "id": "50b59ae0",
   "metadata": {},
   "source": [
    "### Existing ontologies\n",
    "\n",
    "• w3c good ontologies https://www.w3.org/wiki/Good_Ontologies\n",
    "\n",
    "• OLS ontologies https://www.ebi.ac.uk/ols/ontologies\n",
    "\n",
    "• Protégé ontology library https://protegewiki.stanford.edu/wiki/Protege_Ontology_Library"
   ]
  },
  {
   "cell_type": "markdown",
   "id": "83b8cab4",
   "metadata": {},
   "source": [
    "### Exercise 7: Using WINE ontology"
   ]
  },
  {
   "cell_type": "markdown",
   "id": "d4ef2219",
   "metadata": {},
   "source": [
    "\n",
    "\n",
    "Download the wine (https://www.w3.org/TR/owl-guide/wine.rdf) ontology and use the Pellet reasoner to perform inference. You need to set plug-in for Pellet reasoner."
   ]
  },
  {
   "cell_type": "markdown",
   "id": "33a002be",
   "metadata": {},
   "source": [
    "1- How many axioms are there in the ontology?"
   ]
  },
  {
   "cell_type": "code",
   "execution_count": null,
   "id": "d16028c4",
   "metadata": {},
   "outputs": [],
   "source": []
  },
  {
   "cell_type": "markdown",
   "id": "c5ed8eaf",
   "metadata": {},
   "source": [
    "2- How many classes, object properties, and data properties are there?"
   ]
  },
  {
   "cell_type": "code",
   "execution_count": null,
   "id": "d96029ae",
   "metadata": {},
   "outputs": [],
   "source": []
  }
 ],
 "metadata": {
  "kernelspec": {
   "display_name": "Python 3 (ipykernel)",
   "language": "python",
   "name": "python3"
  },
  "language_info": {
   "codemirror_mode": {
    "name": "ipython",
    "version": 3
   },
   "file_extension": ".py",
   "mimetype": "text/x-python",
   "name": "python",
   "nbconvert_exporter": "python",
   "pygments_lexer": "ipython3",
   "version": "3.9.7"
  }
 },
 "nbformat": 4,
 "nbformat_minor": 5
}
