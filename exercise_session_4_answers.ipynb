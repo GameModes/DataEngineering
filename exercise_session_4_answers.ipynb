{
 "cells": [
  {
   "cell_type": "markdown",
   "id": "ff7f183c",
   "metadata": {},
   "source": [
    "## Exercise Session 4\n",
    "\n",
    "Note: <span style=\"color:red\">you don't need to use RDFlib for this exercise. </span>"
   ]
  },
  {
   "cell_type": "markdown",
   "id": "640077fb",
   "metadata": {},
   "source": [
    "### Querying the DBpedia knowledge base. \n",
    "\n",
    "Provide SPARQL queries to answer the following questions. \n"
   ]
  },
  {
   "cell_type": "markdown",
   "id": "6c4c684e",
   "metadata": {},
   "source": [
    "1- Is Mount Kilimanjaro taller than mount Everest? (Hint: ASK query)"
   ]
  },
  {
   "cell_type": "code",
   "execution_count": 1,
   "id": "c8d6b813",
   "metadata": {},
   "outputs": [],
   "source": [
    "import rdflib\n",
    "g = rdflib.ConjunctiveGraph('SPARQLStore')\n",
    "g.open('http://dbpedia.org/sparql')"
   ]
  },
  {
   "cell_type": "code",
   "execution_count": 2,
   "id": "bb6ef4c4",
   "metadata": {},
   "outputs": [],
   "source": [
    "query=\"\"\"\n",
    "PREFIX dbo: <http://dbpedia.org/ontology/>\n",
    "\n",
    "ASK WHERE {\n",
    "    <http://dbpedia.org/resource/Mount_Kilimanjaro> dbo:elevation ?x .\n",
    "    <http://dbpedia.org/resource/Mount_Everest> dbo:elevation ?y .\n",
    "\n",
    "    FILTER (?x > ?y)\n",
    "}\n",
    "\"\"\"\n",
    "\n",
    "qresult = g.query(query)"
   ]
  },
  {
   "cell_type": "code",
   "execution_count": 3,
   "id": "1357789b",
   "metadata": {},
   "outputs": [
    {
     "data": {
      "text/plain": [
       "False"
      ]
     },
     "execution_count": 3,
     "metadata": {},
     "output_type": "execute_result"
    }
   ],
   "source": [
    "qresult.askAnswer"
   ]
  },
  {
   "cell_type": "markdown",
   "id": "6f502b40",
   "metadata": {},
   "source": [
    "2- What are the top 5 highest mountains in the world?"
   ]
  },
  {
   "cell_type": "code",
   "execution_count": 5,
   "id": "6f83e3b1",
   "metadata": {},
   "outputs": [
    {
     "name": "stdout",
     "output_type": "stream",
     "text": [
      "http://dbpedia.org/resource/Alpide_belt\n",
      "http://dbpedia.org/resource/Himalayas\n",
      "http://dbpedia.org/resource/Mahalangur_Himal\n",
      "http://dbpedia.org/resource/Karakoram\n",
      "http://dbpedia.org/resource/Kangchenjunga\n"
     ]
    }
   ],
   "source": [
    "query=\"\"\"\n",
    "    SELECT distinct ?x WHERE {\n",
    "        ?x rdf:type dbo:Mountain .\n",
    "        ?x dbo:elevation ?y . \n",
    "    }\n",
    "    ORDER BY DESC(?y) \n",
    "    LIMIT 5\n",
    "\"\"\"\n",
    "\n",
    "qresult = g.query(query)\n",
    "for row in qresult:\n",
    "    print(row[0])"
   ]
  },
  {
   "cell_type": "markdown",
   "id": "0b604bca",
   "metadata": {},
   "source": [
    "3- Select 10 politicians who were born in Utrecht."
   ]
  },
  {
   "cell_type": "code",
   "execution_count": 6,
   "id": "6ff7bb3d",
   "metadata": {},
   "outputs": [
    {
     "name": "stdout",
     "output_type": "stream",
     "text": [
      "http://dbpedia.org/resource/Boris_Dittrich\n",
      "http://dbpedia.org/resource/Peter_Ester\n",
      "http://dbpedia.org/resource/Rita_Verdonk\n",
      "http://dbpedia.org/resource/Frans_Andriessen\n",
      "http://dbpedia.org/resource/Godert_van_der_Capellen\n",
      "http://dbpedia.org/resource/Theo_van_Lynden_van_Sandenburg\n",
      "http://dbpedia.org/resource/Anja_Meulenbelt\n",
      "http://dbpedia.org/resource/Stientje_van_Veldhoven\n",
      "http://dbpedia.org/resource/Titus_van_Asch_van_Wijck\n",
      "http://dbpedia.org/resource/Edith_Schippers\n"
     ]
    }
   ],
   "source": [
    "query=\"\"\"\n",
    "    SELECT ?person WHERE {\n",
    "        ?person dbo:birthPlace dbr:Utrecht .\n",
    "        ?person rdf:type yago:Politician110450303 . \n",
    "    }\n",
    "    LIMIT 10\n",
    "\"\"\"\n",
    "\n",
    "qresult = g.query(query)\n",
    "for row in qresult:\n",
    "    print(row[0])"
   ]
  },
  {
   "cell_type": "markdown",
   "id": "ca3f9196",
   "metadata": {},
   "source": [
    "4- Select footballers born in the Netherlands that manage a team that they played for."
   ]
  },
  {
   "cell_type": "code",
   "execution_count": 9,
   "id": "1cb9e2f5",
   "metadata": {},
   "outputs": [
    {
     "name": "stdout",
     "output_type": "stream",
     "text": [
      "http://dbpedia.org/resource/Carlo_l'Ami\n",
      "http://dbpedia.org/resource/Robin_van_der_Laan\n",
      "http://dbpedia.org/resource/Roger_Reijners\n",
      "http://dbpedia.org/resource/Sandor_van_der_Heide\n",
      "http://dbpedia.org/resource/Dennis_van_Wijk\n",
      "http://dbpedia.org/resource/Joop_Hiele\n",
      "http://dbpedia.org/resource/Joop_Lankhaar\n",
      "http://dbpedia.org/resource/Joop_van_Daele\n",
      "http://dbpedia.org/resource/Jos_van_Eck\n",
      "http://dbpedia.org/resource/Paul_Beekmans\n"
     ]
    }
   ],
   "source": [
    "query = \"\"\"\n",
    "    SELECT distinct ?person WHERE {\n",
    "        ?person dbo:birthPlace dbr:Netherlands .\n",
    "        ?person rdf:type yago:FootballPlayer110101634 .\n",
    "        ?person dbo:team ?team .\n",
    "        ?person dbo:managerClub ?team .\n",
    "    }\n",
    "    LIMIT 10\n",
    "\"\"\"\n",
    "\n",
    "qresult = g.query(query)\n",
    "for row in qresult:\n",
    "    print(row[0])"
   ]
  },
  {
   "cell_type": "markdown",
   "id": "ec3d50af",
   "metadata": {},
   "source": [
    "5- Construct an RDF graph with all the names of graduates (alma mater) of Utrecht university."
   ]
  },
  {
   "cell_type": "code",
   "execution_count": 14,
   "id": "24fa804d",
   "metadata": {},
   "outputs": [
    {
     "name": "stdout",
     "output_type": "stream",
     "text": [
      "http://dbpedia.org/resource/Roel_Vertegaal http://xmlns.com/foaf/0.1/name http://dbpedia.org/resource/Roel_Vertegaal\n",
      "http://dbpedia.org/resource/Sander_Terphuis http://xmlns.com/foaf/0.1/name http://dbpedia.org/resource/Sander_Terphuis\n",
      "http://dbpedia.org/resource/Ben_Verwaayen http://xmlns.com/foaf/0.1/name http://dbpedia.org/resource/Ben_Verwaayen\n",
      "http://dbpedia.org/resource/Bas_Belder http://xmlns.com/foaf/0.1/name http://dbpedia.org/resource/Bas_Belder\n",
      "http://dbpedia.org/resource/Bart_Smals http://xmlns.com/foaf/0.1/name http://dbpedia.org/resource/Bart_Smals\n",
      "http://dbpedia.org/resource/Roel_Vermeulen http://xmlns.com/foaf/0.1/name http://dbpedia.org/resource/Roel_Vermeulen\n",
      "http://dbpedia.org/resource/Ben_Swagerman http://xmlns.com/foaf/0.1/name http://dbpedia.org/resource/Ben_Swagerman\n",
      "http://dbpedia.org/resource/Schelto_Patijn http://xmlns.com/foaf/0.1/name http://dbpedia.org/resource/Schelto_Patijn\n",
      "http://dbpedia.org/resource/Bert_Röling http://xmlns.com/foaf/0.1/name http://dbpedia.org/resource/Bert_Röling\n",
      "http://dbpedia.org/resource/Bas_Edixhoven http://xmlns.com/foaf/0.1/name http://dbpedia.org/resource/Bas_Edixhoven\n"
     ]
    }
   ],
   "source": [
    "cquery=\"\"\"\n",
    "    CONSTRUCT {\n",
    "        ?person foaf:name ?name . \n",
    "    }\n",
    "    WHERE {\n",
    "        ?person dbo:almaMater dbr:Utrecht_University .\n",
    "        ?person foaf:name ?name\n",
    "        FILTER(lang(?name)='en')\n",
    "    } \n",
    "    LIMIT 10\n",
    "\"\"\"\n",
    "qresult = g.query(cquery)\n",
    "for row in qresult:\n",
    "    print(row[0], row[1], row[0])"
   ]
  },
  {
   "cell_type": "markdown",
   "id": "030aff4d",
   "metadata": {},
   "source": [
    "### Querying WIKIDATA\n",
    "\n",
    "Provide SPARQL queries to answer the following questions. \n"
   ]
  },
  {
   "cell_type": "markdown",
   "id": "ec0a50b8",
   "metadata": {},
   "source": [
    "1- List French names of Dutch cities."
   ]
  },
  {
   "cell_type": "code",
   "execution_count": 1,
   "id": "400da447",
   "metadata": {},
   "outputs": [],
   "source": [
    "import rdflib \n",
    "\n",
    "g = rdflib.ConjunctiveGraph('SPARQLStore')\n",
    "g.open('https://query.wikidata.org/sparql')"
   ]
  },
  {
   "cell_type": "code",
   "execution_count": 2,
   "id": "e46f97ff",
   "metadata": {},
   "outputs": [
    {
     "name": "stdout",
     "output_type": "stream",
     "text": [
      "Groningue\n",
      "Sneek\n",
      "Ruremonde\n",
      "Helmond\n",
      "Haarlem\n",
      "Tilbourg\n",
      "Enkhuizen\n",
      "Purmerend\n",
      "Amsterdam\n",
      "Weesp\n",
      "Dorestad\n",
      "Assen\n",
      "Appingedam\n",
      "Wageningue\n",
      "Hengelo\n",
      "Kampen\n",
      "Maastricht\n",
      "IJsselstein\n",
      "Vianen\n",
      "Arnhem\n",
      "Maassluis\n",
      "Ryswick\n",
      "Zoetermeer\n",
      "Rotterdam\n",
      "Dordrecht\n",
      "La Haye\n",
      "Bréda\n",
      "Leyde\n",
      "Middelbourg\n",
      "Leeuwarden\n",
      "Nimègue\n",
      "Edam\n",
      "Almere\n",
      "Zutphen\n",
      "Doesburg\n",
      "Voorburg\n",
      "Culemborg\n",
      "Lelystad\n",
      "Flardingue\n",
      "Berg-op-Zoom\n",
      "Schiedam\n",
      "Hattem\n",
      "Delfzijl\n",
      "Leerdam\n",
      "Meppel\n",
      "Sittard\n",
      "Heerenveen\n",
      "Rosmalen\n",
      "Ede\n",
      "Reimerswaal\n",
      "Bois-le-Duc\n",
      "Apeldoorn\n",
      "Bolsward\n",
      "Venlo\n",
      "Rosendael\n",
      "Nimègue\n",
      "Rincon (Bonaire)\n",
      "Doetinchem\n",
      "Lochem\n",
      "Nijkerk\n",
      "Alkmaar\n",
      "Flessingue\n",
      "Utrecht\n",
      "Assen\n",
      "Deventer\n",
      "Kerkrade\n",
      "Almelo\n",
      "Amersfoort\n",
      "Den Helder\n",
      "Gouda\n"
     ]
    }
   ],
   "source": [
    "query=\"\"\"\n",
    "    SELECT ?cityLabel \n",
    "    WHERE {\n",
    "        ?city wdt:P31 wd:Q515 ;\n",
    "              wdt:P17 wd:Q55 ; \n",
    "              rdfs:label ?cityLabel .\n",
    "        FILTER (lang(?cityLabel)=\"fr\")\n",
    "    }\n",
    "\"\"\"\n",
    "\n",
    "qresult = g.query(query)\n",
    "for row in qresult:\n",
    "    print(row[0])"
   ]
  },
  {
   "cell_type": "markdown",
   "id": "b953f749",
   "metadata": {},
   "source": [
    "2- List the top 10 highest grossing movies of all time."
   ]
  },
  {
   "cell_type": "code",
   "execution_count": 4,
   "id": "2a8dc630",
   "metadata": {},
   "outputs": [
    {
     "name": "stdout",
     "output_type": "stream",
     "text": [
      "http://www.wikidata.org/entity/Q32362264 910368390000000 Yolki 6\n",
      "http://www.wikidata.org/entity/Q23562553 268533313000000 The Flash\n",
      "http://www.wikidata.org/entity/Q2602481 722135000000 The House with Laughing Windows\n",
      "http://www.wikidata.org/entity/Q116442403 384000000000 The House of No Man\n",
      "http://www.wikidata.org/entity/Q3232239 196657000000 Shock\n",
      "http://www.wikidata.org/entity/Q17039529 80040000000 Umizaru 3: The Last Message\n",
      "http://www.wikidata.org/entity/Q85967437 77586450000 Solitary\n",
      "http://www.wikidata.org/entity/Q601365 69541000000 Crypt of the Vampire\n",
      "http://www.wikidata.org/entity/Q65195735 58178370740 Dynamite\n",
      "http://www.wikidata.org/entity/Q85971973 34135121094 Sagband\n"
     ]
    }
   ],
   "source": [
    "query2=\"\"\"\n",
    "    SELECT DISTINCT ?item ?boxoffice ?label \n",
    "    WHERE {\n",
    "        ?item wdt:P31 wd:Q11424.\n",
    "        ?item wdt:P2142 ?boxoffice.\n",
    "        ?item rdfs:label ?label . \n",
    "        FILTER (lang(?label) = 'en')\n",
    "    }\n",
    "    ORDER BY DESC(?boxoffice)\n",
    "    LIMIT 10\n",
    "\"\"\"\n",
    "qresult2 = g.query(query2)\n",
    "for row in qresult2:\n",
    "    print(row[0], row[1], row[2])"
   ]
  },
  {
   "cell_type": "markdown",
   "id": "8ab89a89",
   "metadata": {},
   "source": [
    "3- Find the names of video games set on Mars. "
   ]
  },
  {
   "cell_type": "code",
   "execution_count": 6,
   "id": "f9dcdad4",
   "metadata": {},
   "outputs": [
    {
     "name": "stdout",
     "output_type": "stream",
     "text": [
      "http://www.wikidata.org/entity/Q48767929 Project Eagle\n",
      "http://www.wikidata.org/entity/Q55662649 Doom Eternal\n",
      "http://www.wikidata.org/entity/Q60740631 Destiny 2 post-release content\n",
      "http://www.wikidata.org/entity/Q93875174 Looney Tunes: Galactic Sports\n",
      "http://www.wikidata.org/entity/Q107303968 PowerWash Simulator\n",
      "http://www.wikidata.org/entity/Q144559 Zak McKracken and the Alien Mindbenders\n",
      "http://www.wikidata.org/entity/Q189784 Doom\n",
      "http://www.wikidata.org/entity/Q210275 Destiny\n",
      "http://www.wikidata.org/entity/Q30015130 Far Cry 5\n",
      "http://www.wikidata.org/entity/Q30590859 Cydonia: Mars - The First Manned Mission\n",
      "http://www.wikidata.org/entity/Q30639185 Surviving Mars\n",
      "http://www.wikidata.org/entity/Q286205 Wipeout\n",
      "http://www.wikidata.org/entity/Q537071 Martian Memorandum\n",
      "http://www.wikidata.org/entity/Q753511 Mass Effect 3\n",
      "http://www.wikidata.org/entity/Q23253765 Offworld Trading Company\n",
      "http://www.wikidata.org/entity/Q23978200 Call of Duty: Infinite Warfare\n",
      "http://www.wikidata.org/entity/Q24808194 Commander Keen in Invasion of the Vorticons\n",
      "http://www.wikidata.org/entity/Q25218470 Californium\n",
      "http://www.wikidata.org/entity/Q28451892 Tharsis\n",
      "http://www.wikidata.org/entity/Q29045915 Destiny 2\n",
      "http://www.wikidata.org/entity/Q755186 Doom II\n",
      "http://www.wikidata.org/entity/Q838642 Doom RPG\n",
      "http://www.wikidata.org/entity/Q893412 Border Down\n",
      "http://www.wikidata.org/entity/Q1051875 Caverns of Mars\n",
      "http://www.wikidata.org/entity/Q1068025 Chaser\n",
      "http://www.wikidata.org/entity/Q1071278 Doom 64\n",
      "http://www.wikidata.org/entity/Q1128513 Millennium 2.2\n",
      "http://www.wikidata.org/entity/Q1151827 Dark Colony\n",
      "http://www.wikidata.org/entity/Q1200546 Descent\n",
      "http://www.wikidata.org/entity/Q1276884 Daffy Duck: The Marvin Missions\n",
      "http://www.wikidata.org/entity/Q1327035 UFO: Afterlight\n",
      "http://www.wikidata.org/entity/Q1619582 Red Faction II\n",
      "http://www.wikidata.org/entity/Q2135987 Red Faction\n",
      "http://www.wikidata.org/entity/Q2255487 Red Faction: Guerrilla\n",
      "http://www.wikidata.org/entity/Q2305323 The Journeyman Project\n",
      "http://www.wikidata.org/entity/Q2487830 The Journeyman Project: Pegasus Prime\n",
      "http://www.wikidata.org/entity/Q2560167 Red Faction: Armageddon\n",
      "http://www.wikidata.org/entity/Q3036896 Doom Resurrection\n",
      "http://www.wikidata.org/entity/Q3080135 Martian Gothic: Unification\n",
      "http://www.wikidata.org/entity/Q3085756 Mars Matrix\n",
      "http://www.wikidata.org/entity/Q3161507 Jamestown: Legend of the Lost Colony\n",
      "http://www.wikidata.org/entity/Q3862744 Monuments of Mars\n",
      "http://www.wikidata.org/entity/Q4035233 Blue Mars\n",
      "http://www.wikidata.org/entity/Q4906178 Big Red Racing\n",
      "http://www.wikidata.org/entity/Q6773079 Mars: War Logs\n",
      "http://www.wikidata.org/entity/Q6773164 Mars Rising\n",
      "http://www.wikidata.org/entity/Q6773165 Mars Saga\n",
      "http://www.wikidata.org/entity/Q7277910 RTX Red Rock\n",
      "http://www.wikidata.org/entity/Q7602433 Starsiege\n",
      "http://www.wikidata.org/entity/Q7880089 Ultima: Worlds of Adventure 2: Martian Dreams\n",
      "http://www.wikidata.org/entity/Q7961161 Waking Mars\n",
      "http://www.wikidata.org/entity/Q11328537 Virtuoso\n",
      "http://www.wikidata.org/entity/Q16267665 Take On Mars\n",
      "http://www.wikidata.org/entity/Q16743193 Super Motherload\n",
      "http://www.wikidata.org/entity/Q21027964 The Technomancer\n"
     ]
    }
   ],
   "source": [
    "query3 = \"\"\"\n",
    "    SELECT ?vg ?vgLabel\n",
    "    WHERE\n",
    "    {\n",
    "      ?vg wdt:P31 wd:Q7889 .\n",
    "        ?vg wdt:P840 wd:Q111 .\n",
    "        ?vg rdfs:label ?vgLabel .\n",
    "        FILTER(lang(?vgLabel)=\"en\")\n",
    "   }\n",
    "\"\"\"\n",
    "qresult3 = g.query(query3)\n",
    "for row in qresult3:\n",
    "    print(row[0], row[1])"
   ]
  },
  {
   "cell_type": "markdown",
   "id": "96afaece",
   "metadata": {},
   "source": [
    "### Working with Triple stores\n",
    "\n",
    "#### BlazeGraph "
   ]
  },
  {
   "attachments": {
    "image.png": {
     "image/png": "[encoded data removed]"
    }
   },
   "cell_type": "markdown",
   "id": "37b1fea7",
   "metadata": {},
   "source": [
    "For the lecture on Wednesday, please download and set up Blazegraph. You can download blazegraph.jar at this address: https://github.com/blazegraph/database/releases/tag/BLAZEGRAPH_2_1_6_RC \n",
    "\n",
    "Alternatively, if you’re on Linux, you can download and use .rpm or .deb versions depending on the distribution that you’re using. \n",
    "\n",
    " \n",
    "\n",
    "In order to run blazegraph.jar from the command line, you need Java version 9 and above. You can start Blazegraph by executing the following command at the prompt.\n",
    "\n",
    "\n",
    "\t\n",
    " `java -jar blazegraph.jar`\n",
    "\n",
    "\n",
    "By default, the application runs on port 9999, you can change that by adding `-server -Djetty.port=8080` to the above command. \n",
    "\n",
    " \n",
    "\n",
    "When Blazegraph starts, it will provide you a URL address which looks like http://127.0.0.1:9999/blazegraph.  When you open this address in a Web browser, you should see the welcome page.\n",
    "\n",
    "![image.png](attachment:image.png)\n",
    "\n",
    "Follow the instructions on the welcome page to upload a dataset and start querying.  To start with, you can upload the dataset noblepize.nt. You can find some documentation about the dataset and sample queries at the addresses https://data.nobelprize.org/specification/ ,  https://data.nobelprize.org/terms/ and https://www.nobelprize.org/about/linked-data-examples/ "
   ]
  },
  {
   "cell_type": "markdown",
   "id": "99894f74",
   "metadata": {},
   "source": [
    "Provide at least 3 interesting SPARQL queries for the Nobel prize dataset. \n",
    "\n",
    "For instance, \n",
    "1. Who is the youngest Nobel Prize winner? \n",
    "2. Which country has the largest number of Nobel Prize-winning nationals? etc.\n"
   ]
  },
  {
   "cell_type": "code",
   "execution_count": null,
   "id": "29c151a4",
   "metadata": {},
   "outputs": [],
   "source": []
  }
 ],
 "metadata": {
  "kernelspec": {
   "display_name": "Python 3 (ipykernel)",
   "language": "python",
   "name": "python3"
  },
  "language_info": {
   "codemirror_mode": {
    "name": "ipython",
    "version": 3
   },
   "file_extension": ".py",
   "mimetype": "text/x-python",
   "name": "python",
   "nbconvert_exporter": "python",
   "pygments_lexer": "ipython3",
   "version": "3.9.7"
  }
 },
 "nbformat": 4,
 "nbformat_minor": 5
}
