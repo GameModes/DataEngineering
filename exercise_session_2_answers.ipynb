{
 "cells": [
  {
   "cell_type": "markdown",
   "metadata": {
    "slideshow": {
     "slide_type": "slide"
    }
   },
   "source": [
    "# Exercise Session 2"
   ]
  },
  {
   "cell_type": "markdown",
   "metadata": {
    "slideshow": {
     "slide_type": "slide"
    }
   },
   "source": [
    "# Exercises"
   ]
  },
  {
   "cell_type": "markdown",
   "metadata": {
    "slideshow": {
     "slide_type": "slide"
    }
   },
   "source": [
    "### 1- Modeling with RDF\n",
    "a. It is possible to reach Amsterdam either by train, by bus, or by plane.<br>\n",
    "b. Amsterdam can only be reached by train, by bus or by plane."
   ]
  },
  {
   "cell_type": "markdown",
   "metadata": {
    "slideshow": {
     "slide_type": "slide"
    }
   },
   "source": [
    "### Answer"
   ]
  },
  {
   "cell_type": "markdown",
   "metadata": {
    "slideshow": {
     "slide_type": "slide"
    }
   },
   "source": [
    "a.<br>\n",
    "\n",
    "    @prefix : <http://ex.org/> .\n",
    "    :Amsterdam :canBeReachedVia _:b .  \n",
    "    _:b rdf:type rdf:Alt .  \n",
    "    _:b rdf:_1 :Train .  \n",
    "    _:b rdf:_2 :Bus .  \n",
    "    _:b rdf:_3 :Plane .  \n",
    "\n",
    "b.<br>\n",
    "\n",
    "    :Amsterdam :canBeReachedVia _:b1 . \n",
    "    _:b1 rdf:first :Train .  \n",
    "    _:b1 rdf:rest _:b2 . \n",
    "    _:b2 rdf:first :Bus .  \n",
    "    _:b2 rdf:rest _:b3 .  \n",
    "    _:b3 rdf:first :Plane .  \n",
    "    _:b3 rdf:rest rdf:nil .  \n",
    "\n",
    "  Or\n",
    "\n",
    "    :Amsterdam :canBeReachedVia ( :Train :Bus :Plane ) . \n"
   ]
  },
  {
   "cell_type": "markdown",
   "metadata": {
    "slideshow": {
     "slide_type": "slide"
    }
   },
   "source": [
    "### 2- Create an RDF model that represents the following statements: <br> \n",
    "a). <http://ex.org/Resource/Document1> is created by John.  <br>\n",
    "b). <http://ex.org/Resource/Document2> and <http://ex.org/Resource/Document3> are created by an unknown author. <br>\n",
    "c). <http://ex.org/Document3> says that <http://ex.org/Document1> is published by W3C.\n",
    "\n",
    "You can make of use of the predicates http://purl.org/dc/elements/1.1/creator  and http://purl.org/dc/elements/1.1/publisher to create the model.\n",
    "        "
   ]
  },
  {
   "cell_type": "markdown",
   "metadata": {
    "slideshow": {
     "slide_type": "slide"
    }
   },
   "source": [
    "### Answer"
   ]
  },
  {
   "cell_type": "markdown",
   "metadata": {
    "slideshow": {
     "slide_type": "slide"
    }
   },
   "source": [
    "    @prefix : <http://ex.org/Resource/> . \n",
    "    @prefix dc: <http://purl.org/dc/elements/1.1/> . \n",
    "    :Document1 dc:creator \"John\" . \n",
    "    :Document2 dc:creator _:b1 . \n",
    "    :Document3 dc:creator _:b1 . \n",
    "    :Document3 dc:claims _:b2 . \n",
    "    _:b2 rdf:type rdf:Statement .  \n",
    "    _:b2 rdf:subject :Document1 . \n",
    "    _:b2 rdf:predicate dc:publisher . \n",
    "    _:b2 rdf:object \"W3C\" . "
   ]
  },
  {
   "cell_type": "markdown",
   "metadata": {
    "slideshow": {
     "slide_type": "slide"
    }
   },
   "source": [
    "### 3- Using FOAF\n",
    "\n",
    "Create your own FOAF profile using the Turtle syntax.\n",
    "\n",
    "FOAF = friend of a friend\n",
    "-  FOAF is a vocabulary to describe people and their social networks. <br>\n",
    "-  Prefix foaf: <http://xmlns.com/foaf/0.1/>\n",
    "\n",
    "a) Create your own FOAF profile using the Turtle syntax. <br>\n",
    "b) Convert the Turtle syntax into RDF/XML.\n",
    "\n",
    "You can use the FOAF generator http://www.ldodds.com/foaf/foaf-a-matic.html to verify\n",
    "your results."
   ]
  },
  {
   "cell_type": "markdown",
   "metadata": {
    "slideshow": {
     "slide_type": "slide"
    }
   },
   "source": [
    "### Answer"
   ]
  },
  {
   "cell_type": "markdown",
   "metadata": {
    "slideshow": {
     "slide_type": "slide"
    }
   },
   "source": [
    "    @prefix foaf: <http://xmlns.com/foaf/0.1/> .\n",
    "\n",
    "    <http://john.me/#me>  \n",
    "      a foaf:Person ; \n",
    "      foaf:name \"John Smith\" ; \n",
    "      foaf:title \"Dr\" ; \n",
    "      foaf:givenname \"John\" ; \n",
    "      foaf:family_name \"Smith\" ; \n",
    "      foaf:nick \"Jo\" ; \n",
    "      foaf:homepage <http://john.me> ;\n",
    "      foaf:depiction <http://john.me/do.jpg> ; \n",
    "      foaf:mbox <mailto:john@smith.com> ;  \n",
    "      foaf:phone \"000111222333\" .  "
   ]
  },
  {
   "cell_type": "code",
   "execution_count": 4,
   "metadata": {
    "slideshow": {
     "slide_type": "slide"
    }
   },
   "outputs": [
    {
     "name": "stdout",
     "output_type": "stream",
     "text": [
      "<?xml version=\"1.0\" encoding=\"utf-8\"?>\n",
      "<rdf:RDF\n",
      "   xmlns:foaf=\"http://xmlns.com/foaf/0.1/\"\n",
      "   xmlns:rdf=\"http://www.w3.org/1999/02/22-rdf-syntax-ns#\"\n",
      ">\n",
      "  <rdf:Description rdf:about=\"http://john.me/#me\">\n",
      "    <rdf:type rdf:resource=\"http://xmlns.com/foaf/0.1/Person\"/>\n",
      "    <foaf:name>John Smith</foaf:name>\n",
      "    <foaf:title>Dr</foaf:title>\n",
      "    <foaf:givenname>John</foaf:givenname>\n",
      "    <foaf:family_name>Smith</foaf:family_name>\n",
      "    <foaf:nick>Jo</foaf:nick>\n",
      "    <foaf:homepage rdf:resource=\"http://john.me\"/>\n",
      "    <foaf:depiction rdf:resource=\"http://john.me/do.jpg\"/>\n",
      "    <foaf:mbox rdf:resource=\"mailto:john@smith.com\"/>\n",
      "    <foaf:phone>000111222333</foaf:phone>\n",
      "  </rdf:Description>\n",
      "</rdf:RDF>\n",
      "\n"
     ]
    }
   ],
   "source": [
    "from rdflib import Graph\n",
    "g = Graph()\n",
    "g.parse(\"myfoaf.ttl\", format='turtle')\n",
    "print(g.serialize(format=\"xml\"))"
   ]
  },
  {
   "cell_type": "markdown",
   "metadata": {
    "slideshow": {
     "slide_type": "slide"
    }
   },
   "source": [
    "### 4- Reification"
   ]
  },
  {
   "cell_type": "markdown",
   "metadata": {
    "slideshow": {
     "slide_type": "slide"
    }
   },
   "source": [
    "Create an RDF graph that represents the following statement:\n",
    "\n",
    "John claims that the creator of the resource http://www.amazon.com is Jeff Bezos. "
   ]
  },
  {
   "cell_type": "markdown",
   "metadata": {
    "slideshow": {
     "slide_type": "slide"
    }
   },
   "source": [
    "### Answer"
   ]
  },
  {
   "cell_type": "markdown",
   "metadata": {
    "slideshow": {
     "slide_type": "-"
    }
   },
   "source": [
    "     @prefix : <http://ex.org/> .\n",
    "     :John :claims _:b.  \n",
    "    _:b rdf:type rdf:Statement .  \n",
    "    _:b rdf:subject :JeffBezos .  \n",
    "    _:b rdf:predicate :creator .  \n",
    "    _:b rdf:object <http://www.amazon.com> ."
   ]
  },
  {
   "cell_type": "markdown",
   "metadata": {
    "slideshow": {
     "slide_type": "slide"
    }
   },
   "source": [
    "### 5- Searching RDF graphs through programming  \n",
    "\n",
    "Given the following RDF graph, write a Python program to extend it with additional triples. Retrieve these triples from DBpedia, focusing on Utrecht's population, latitude, and longitude, along with the country to which it belongs. This extension allows us to answers the query \"what is the population of the city in which Utrecht University, offering the course in Knowledge Engineering, is located?\" \n",
    "\n",
    "    @prefix ex: <http://ex.org/>\n",
    "    @prefix db: <https://dbpedia.org/resource/>\n",
    "    ex:KDE ex:offeredAt ex:UtrechtUniversity . \n",
    "    ex:UtrechtUniversity ex:locatedIn db:Utrecht ."
   ]
  },
  {
   "cell_type": "markdown",
   "metadata": {
    "slideshow": {
     "slide_type": "slide"
    }
   },
   "source": [
    "### Answer"
   ]
  },
  {
   "cell_type": "code",
   "execution_count": 17,
   "metadata": {
    "slideshow": {
     "slide_type": "slide"
    }
   },
   "outputs": [
    {
     "name": "stdout",
     "output_type": "stream",
     "text": [
      "Graph in Turtle syntax\n",
      "-----------------------\n",
      "@prefix ns1: <http://ex.org/> .\n",
      "\n",
      "ns1:KDE ns1:offeredAt ns1:UtrechtUniversity .\n",
      "\n",
      "ns1:UtrechtUniversity ns1:locatedIn <https://dbpedia.org/resource/Utrecht> .\n",
      "\n",
      "\n",
      "Number of triples in the extended graph:  6\n",
      "-----------------------\n",
      "Extended graph\n",
      "-----------------------\n",
      "@prefix db: <https://dbpedia.org/resource/> .\n",
      "@prefix dbo: <http://dbpedia.org/ontology/> .\n",
      "@prefix geo1: <http://www.w3.org/2003/01/geo/wgs84_pos#> .\n",
      "@prefix ns1: <http://ex.org/> .\n",
      "@prefix xsd: <http://www.w3.org/2001/XMLSchema#> .\n",
      "\n",
      "ns1:KDE ns1:offeredAt ns1:UtrechtUniversity .\n",
      "\n",
      "ns1:UtrechtUniversity ns1:locatedIn db:Utrecht .\n",
      "\n",
      "db:Utrecht dbo:country <http://dbpedia.org/resource/Netherlands> ;\n",
      "    dbo:populationTotal \"361742\"^^xsd:nonNegativeInteger ;\n",
      "    geo1:lat \"52.08333206176758\"^^xsd:float ;\n",
      "    geo1:long \"5.116666793823242\"^^xsd:float .\n",
      "\n",
      "\n"
     ]
    }
   ],
   "source": [
    "from rdflib import Graph, Literal, RDF, URIRef\n",
    "from rdflib.namespace import Namespace, XSD\n",
    "\n",
    "ex = Namespace(\"http://ex.org/\")\n",
    "db = Namespace(\"https://dbpedia.org/resource/\")\n",
    "\n",
    "g = Graph()\n",
    "g.add((ex[\"KDE\"], ex[\"offeredAt\"], ex[\"UtrechtUniversity\"]))\n",
    "g.add((ex[\"UtrechtUniversity\"], ex[\"locatedIn\"], db[\"Utrecht\"]))\n",
    "# serialize and print the current graph \n",
    "print(\"Graph in Turtle syntax\")\n",
    "print(\"-----------------------\")\n",
    "print(g.serialize(format=\"turtle\"))\n",
    "\n",
    "dbo = Namespace(\"http://dbpedia.org/ontology/\")\n",
    "geo = Namespace(\"http://www.w3.org/2003/01/geo/wgs84_pos#\")\n",
    "g.bind(\"dbo\", dbo)\n",
    "g.bind(\"geo\", geo)\n",
    "g.bind(\"db\", db)\n",
    "\n",
    "g2 = Graph()\n",
    "g2.parse(URIRef(db[\"Utrecht\"]))\n",
    "g2.serialize(format=\"turtle\")\n",
    " \n",
    "for s, p, o in g2: \n",
    "    if p == dbo.populationTotal:\n",
    "        g.add((db.Utrecht, dbo.populationTotal, o))\n",
    "    elif p == dbo.country:\n",
    "        g.add((db.Utrecht,dbo.country, o))\n",
    "    elif p == geo.lat:\n",
    "        o = Literal(o, datatype=XSD.float)\n",
    "        g.add((db.Utrecht, geo.lat, o))\n",
    "    elif p == geo.long:\n",
    "        o = Literal(o, datatype=XSD.float)\n",
    "        g.add((db.Utrecht, geo.long, o))        \n",
    "    else:\n",
    "        continue\n",
    "\n",
    "# count the number of triples in the extended graph \n",
    "print(\"Number of triples in the extended graph: \", len(g))\n",
    "print(\"-----------------------\")\n",
    "\n",
    "# serialize and print the extended graph \n",
    "print(\"Extended graph\")\n",
    "print(\"-----------------------\")\n",
    "\n",
    "print(g.serialize(format=\"turtle\"))\n"
   ]
  },
  {
   "cell_type": "markdown",
   "metadata": {
    "slideshow": {
     "slide_type": "slide"
    }
   },
   "source": [
    "### 6- RDF Schema for Mythological and Legendary Figures\n",
    "\n",
    "We will use RDFS to define some semantics for classes and properties relating to mythological and legendary figures and use these definitions to infer new data in the RDF graph. \n",
    "\n",
    "    @prefix ex:  <http://ex.org/>.\n",
    "    @prefix rdf: <http://www.w3.org/1999/02/22-rdf-syntax-ns#>.\n",
    "    @prefix rdfs: <http://www.w3.org/2000/01/rdf-schema#>.\n",
    "    @prefix xsd: <http://www.w3.org/2001/XMLSchema#>.\n",
    "    ex:CuChulainn a ex:Genma ;\n",
    "        ex:knownAs [ ex:name \"Cú Chulainn\"; ex:meaning \"Culann's Hound\"@en ] ;\n",
    "        ex:knownAs [ ex:name \"Sétanta\" ] .\n",
    "    ex:Ahriman a ex:Vile ;\n",
    "        ex:knownAs [ ex:name \"Ahriman\" ] ;\n",
    "        ex:knownAs [ ex:name \"Angra Mainyu\" ; ex:meaning \"Destructive Spirit\"@en ] .\n",
    "    ex:Vishnu a ex:Deity ;\n",
    "        ex:consort ex:Lakshmi ;\n",
    "        ex:knownAs [ ex:name \"Vishnu\" ; ex:meaning \"All pervasive\"@en ] .\n",
    "    ex:Lakshmi a ex:God ;\n",
    "        ex:consort ex:Vishnu ;\n",
    "        ex:commonlyKnownAs [ ex:name \"Lakshmi\" ; ex:meaning \"Know and understand your goal\"@en ] .\n",
    "    ex:Vile ex:alignment ex:Lawful , ex:Evil .\n",
    "    ex:Genma ex:alignment ex:LawfulNeutral .\n",
    "    ex:LawfulGood a ex:Alignment .\n",
    "    ex:LawfulEvil a ex:Alignment .\n",
    "    \n",
    "    \n",
    "Note that RDF terms are case sensitive; the convention is to use lower (camel) case for properties, like ex:alignment and proper (camel) case for classes and entities, like ex:Alignment. The answer to each question should be kept and extended (some questions depend on previous answers).\n",
    "\n",
    "1. Add one  RDFS (range) triple to infer:\n",
    "    \n",
    "        ex:Lawful a ex:Alignment .   \n",
    "        ex:Evil a ex:Alignment .     \n",
    "        ex:LawfulNeutral a ex:Alignment .\n",
    "        \n",
    "   Solution: \n",
    "   \n",
    "     <span style=\"color:red\">ex:alignment rdfs:range ex:Alignment .</span>\n",
    "    \n",
    "2. Add one RDFS (domain) triple to infer:\n",
    "    \n",
    "        ex:CuChulainn a ex:Entity .  \n",
    "        ex:Ahriman a ex:Entity .     \n",
    "        ex:Vishnu a ex:Entity .             \n",
    "        \n",
    "   Solution: \n",
    "   \n",
    "     <span style=\"color:red\">  ex:knownAs rdfs:domain ex:Entity .</span>\n",
    "   \n",
    "    \n",
    "3. Add one RDFS (subproperty) triple to infer:\n",
    "    \n",
    "        ex:Vishnu ex:companion ex:Lakshmi .  \n",
    "        ex:Lakshmi ex:companion ex:Vishnu .\n",
    "\n",
    "   Solution: \n",
    "   \n",
    "     <span style=\"color:red\">  ex:consort rdfs:subPropertyOf ex:companion .</span>"
   ]
  },
  {
   "cell_type": "markdown",
   "metadata": {
    "slideshow": {
     "slide_type": "slide"
    }
   },
   "source": [
    "### 7- RDFS inference through rdflib and owlrl\n",
    "\n",
    "If you haven't done so already, install the packages rdflib and owlrl using:\n",
    "\n",
    "    !pip install rdflib\n",
    "    !pip install owlrl\n",
    "\n",
    "* See the [rdflib documention](https://rdflib.readthedocs.io/en/stable/index.html) for full documentation on rdflib\n",
    "* See the [owlrl documentation](https://owl-rl.readthedocs.io/en/latest/) for information on rdfs and owl-rl reasoning\n",
    "\n",
    "For the questions from the above task (*Task 6*), provide code that allows to perform inference on the above ontology. \n",
    "\n",
    "#### import rdflib and owlrl\n",
    " * [owlrl](https://owl-rl.readthedocs.io/en/latest/) provides functions that allow to infer triples from RDFS  ontologies."
   ]
  },
  {
   "cell_type": "code",
   "execution_count": 19,
   "metadata": {
    "slideshow": {
     "slide_type": "slide"
    }
   },
   "outputs": [],
   "source": [
    "from rdflib import Graph, Namespace, Literal, URIRef\n",
    "from owlrl.CombinedClosure import RDFS_OWLRL_Semantics\n",
    "import owlrl\n",
    "\n",
    "graph = \"\"\"\n",
    "@prefix ex:  <http://ex.org/>.\n",
    "@prefix rdf: <http://www.w3.org/1999/02/22-rdf-syntax-ns#>.\n",
    "@prefix rdfs: <http://www.w3.org/2000/01/rdf-schema#>.\n",
    "@prefix xsd: <http://www.w3.org/2001/XMLSchema#>.\n",
    "ex:CuChulainn a ex:Genma ;\n",
    "    ex:knownAs [ ex:name \"Cú Chulainn\"; ex:meaning \"Culann's Hound\"@en ] ;\n",
    "    ex:knownAs [ ex:name \"Sétanta\" ] .\n",
    "ex:Ahriman a ex:Vile ;\n",
    "    ex:knownAs [ ex:name \"Ahriman\" ] ;\n",
    "    ex:knownAs [ ex:name \"Angra Mainyu\" ; ex:meaning \"Destructive Spirit\"@en ] .\n",
    "ex:Vishnu a ex:Deity ;\n",
    "    ex:consort ex:Lakshmi ;\n",
    "    ex:knownAs [ ex:name \"Vishnu\" ; ex:meaning \"All pervasive\"@en ] .\n",
    "ex:Lakshmi a ex:God ;\n",
    "    ex:consort ex:Vishnu ;\n",
    "    ex:commonlyKnownAs [ ex:name \"Lakshmi\" ; ex:meaning \"Know and understand your goal\"@en ] .\n",
    "ex:Vile ex:alignment ex:Lawful , ex:Evil .\n",
    "ex:Genma ex:alignment ex:LawfulNeutral .\n",
    "ex:LawfulGood a ex:Alignment .\n",
    "ex:LawfulEvil a ex:Alignment .\n",
    "\n",
    "ex:alignment rdfs:range ex:Alignment .\n",
    "\"\"\"\n",
    "\n",
    "g = Graph().parse(data=graph, format=\"ttl\")"
   ]
  },
  {
   "cell_type": "code",
   "execution_count": 20,
   "metadata": {
    "slideshow": {
     "slide_type": "slide"
    }
   },
   "outputs": [
    {
     "name": "stdout",
     "output_type": "stream",
     "text": [
      "@prefix ex: <http://ex.org/> .\n",
      "@prefix rdfs: <http://www.w3.org/2000/01/rdf-schema#> .\n",
      "\n",
      "ex:Ahriman a ex:Vile ;\n",
      "    ex:knownAs [ ex:name \"Ahriman\" ],\n",
      "        [ ex:meaning \"Destructive Spirit\"@en ;\n",
      "            ex:name \"Angra Mainyu\" ] .\n",
      "\n",
      "ex:CuChulainn a ex:Genma ;\n",
      "    ex:knownAs [ ex:meaning \"Culann's Hound\"@en ;\n",
      "            ex:name \"Cú Chulainn\" ],\n",
      "        [ ex:name \"Sétanta\" ] .\n",
      "\n",
      "ex:LawfulEvil a ex:Alignment .\n",
      "\n",
      "ex:LawfulGood a ex:Alignment .\n",
      "\n",
      "ex:alignment rdfs:range ex:Alignment .\n",
      "\n",
      "ex:Genma ex:alignment ex:LawfulNeutral .\n",
      "\n",
      "ex:Lakshmi a ex:God ;\n",
      "    ex:commonlyKnownAs [ ex:meaning \"Know and understand your goal\"@en ;\n",
      "            ex:name \"Lakshmi\" ] ;\n",
      "    ex:consort ex:Vishnu .\n",
      "\n",
      "ex:Vile ex:alignment ex:Evil,\n",
      "        ex:Lawful .\n",
      "\n",
      "ex:Vishnu a ex:Deity ;\n",
      "    ex:consort ex:Lakshmi ;\n",
      "    ex:knownAs [ ex:meaning \"All pervasive\"@en ;\n",
      "            ex:name \"Vishnu\" ] .\n",
      "\n",
      "\n"
     ]
    }
   ],
   "source": [
    "# add to graph g (Ontology in Task 6) all triples inferred by the RDFS  \n",
    "# Method 1\n",
    "#rdfs_inference = RDFS_OWLRL_Semantics(g, False, False, False)\n",
    "#rdfs_inference.closure()\n",
    "#rdfs_inference.flush_stored_triples()\n",
    "\n",
    "# or Method 2\n",
    "owlrl.DeductiveClosure(owlrl.RDFS_Semantics).expand(g)\n",
    "\n",
    "# or method 3 \n",
    "#owlrl.RDFSClosure.RDFS_Semantics(g, False, False, False)\n",
    "\n",
    "print(g.serialize(format=\"turtle\"))"
   ]
  },
  {
   "cell_type": "markdown",
   "metadata": {
    "slideshow": {
     "slide_type": "slide"
    }
   },
   "source": [
    "### 8- modeling in RDFS\n",
    "\n",
    "1. Expand the following RDFS ontology and data with additional axioms. \n",
    "\n",
    "\n",
    "        rdfs_ontology = \"\"\"\n",
    "        @prefix terms: <http://example.org/ontology/> .\n",
    "        @prefix rdfs: <http://www.w3.org/2000/01/rdf-schema#> .\n",
    "\n",
    "        terms:Person a rdfs:Class; rdfs:subClassOf terms:Mammal .\n",
    "        terms:spouse rdfs:domain terms:Person;\n",
    "                rdfs:range terms:Person.\n",
    "        \"\"\"\n",
    "\n",
    "        data = \"\"\"\n",
    "            @prefix ex: <http://example.org/> .\n",
    "            @prefix terms: <http://example.org/ontology/> .\n",
    "            ex:john terms:spouse ex:mary.\n",
    "        \"\"\"\n",
    "\n",
    "2. Provide the triples that can be inferred from the extended graph using rdflib and owlrl. "
   ]
  },
  {
   "cell_type": "markdown",
   "metadata": {
    "slideshow": {
     "slide_type": "slide"
    }
   },
   "source": [
    "### 9- modeling in RDFS\n",
    "\n",
    "-  Model the domain of films/cinematography using RDFS. "
   ]
  },
  {
   "cell_type": "code",
   "execution_count": null,
   "metadata": {},
   "outputs": [],
   "source": []
  }
 ],
 "metadata": {
  "kernelspec": {
   "display_name": "Python 3 (ipykernel)",
   "language": "python",
   "name": "python3"
  },
  "language_info": {
   "codemirror_mode": {
    "name": "ipython",
    "version": 3
   },
   "file_extension": ".py",
   "mimetype": "text/x-python",
   "name": "python",
   "nbconvert_exporter": "python",
   "pygments_lexer": "ipython3",
   "version": "3.9.7"
  }
 },
 "nbformat": 4,
 "nbformat_minor": 2
}
