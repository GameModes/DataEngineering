{
 "cells": [
  {
   "cell_type": "markdown",
   "id": "8df11f94",
   "metadata": {},
   "source": [
    "We will use the following simple ontology (stars.ttl) to extend with some OWL axioms.\n",
    "\n",
    "     @prefix ex:  <http://ex.org/>.\n",
    "     @prefix owl: <http://www.w3.org/2002/07/owl#>.\n",
    "     @prefix rdf: <http://www.w3.org/1999/02/22-rdf-syntax-ns#>.\n",
    "     @prefix rdfs: <http://www.w3.org/2000/01/rdf-schema#>.\n",
    "     @prefix xsd: <http://www.w3.org/2001/XMLSchema#>.\n",
    "\n",
    "     ex:Sol a ex:LoneStar .\n",
    "     ex:Mercury a ex:Planet ; ex:hasParent ex:Sol .\n",
    "     ex:Venus a ex:Planet ; ex:hasParent ex:Sol .\n",
    "     ex:Earth a ex:Planet ; ex:hasParent ex:Sol ; ex:hasChild ex:Luna .\n",
    "     ex:Mars a ex:Planet ; ex:hasParent ex:Sol ; ex:hasChild ex:Phobos .\n",
    "     ex:Jupiter a ex:Planet ; ex:hasParent ex:Sol ; ex:hasChild ex:Ganymede .\n",
    "     ex:Saturn a ex:Planet ; ex:hasParent ex:Sol ; ex:hasChild ex:Titan .\n",
    "     ex:Uranus a ex:Planet ; ex:hasParent ex:Sol ; ex:hasChild ex:Triton .\n",
    "     ex:Neptune a ex:Planet ; ex:hasParent ex:Sol ; ex:hasChild ex:Titania .\n",
    "     ex:Pluto a ex:DwarfPlanet ; ex:hasParent ex:Sol ; ex:hasChild ex:Charon .\n",
    "     ex:Charon a ex:SolarPlanemo ; ex:hasParent ex:Sol .\n",
    "     ex:Ceres a ex:DwarfPlanet ; a ex:SolarBody ; ex:hasStar ex:Sun .\n",
    "     ex:Phobos ex:discoveredBy ex:AsaphHall .\n",
    "     ex:Ganymede ex:discoveredBy ex:GalileoGalilei .\n",
    "     ex:Titan ex:discoveredBy ex:ChristiaanHuygens .\n",
    "     ex:Triton ex:discoveredBy ex:WilliamLassell .\n",
    "     ex:Titania ex:discoveredBy ex:WilliamHerschel .\n",
    "     ex:Charon ex:discoveredBy ex:JamesWChristy .\n",
    "     ex:AlphaCenturiA a ex:TripleStar ; ex:hasSibling ex:AlphaCenturiB , ex:AlphaCenturiC , ex:ProximaCenturi .\n",
    "     ex:AlphaCenturiB a ex:YellowDwarfStar .\n",
    "     ex:AlphaCenturiC a ex:RedDwarfStar .\n",
    "     ex:ProximaCenturi a ex:RedDwarfStar .\n",
    "     ex:hasParent owl:inverseOf ex:hasChild ; rdfs:subPropertyOf ex:hasAntecedent .\n",
    "     ex:hasStar rdfs:range ex:Star ; rdfs:subPropertyOf ex:hasAntecedent .\n",
    "     ex:hasAntecedent a owl:TransitiveProperty .\n",
    "     ex:discoveredBy owl:inverseOf ex:discovered .\n",
    "     ex:hasSibling a owl:SymmetricProperty .\n",
    "     ex:TripleStar rdfs:subClassOf ex:Star .\n",
    "     ex:LoneStar rdfs:subClassOf ex:Star ."
   ]
  },
  {
   "cell_type": "markdown",
   "id": "d57eaaec",
   "metadata": {},
   "source": [
    "# Exercise 1"
   ]
  },
  {
   "cell_type": "markdown",
   "id": "eb158c1d",
   "metadata": {},
   "source": [
    "Add one axiom to define that a Planemo is either a Planet or a DwarfPlanet (or both), and that all Planets and DwarfPlanets are Planemos."
   ]
  },
  {
   "cell_type": "markdown",
   "id": "57d48956",
   "metadata": {},
   "source": [
    "### Answer"
   ]
  },
  {
   "cell_type": "markdown",
   "id": "19c24474",
   "metadata": {},
   "source": [
    "ex:Planemo owl:equivalentClass [ owl:unionOf ( ex:Planet ex:DwarfPlanet ) ] ."
   ]
  },
  {
   "cell_type": "markdown",
   "id": "5a6b2df0",
   "metadata": {},
   "source": [
    "# Exercise 2"
   ]
  },
  {
   "cell_type": "markdown",
   "id": "33edf95e",
   "metadata": {},
   "source": [
    "Add one axiom to define that all Moons, Planemos and Stars are of type AstronomicBody (but there may be other kinds of AstronomicBody)"
   ]
  },
  {
   "cell_type": "markdown",
   "id": "44ae7290",
   "metadata": {},
   "source": [
    "### Answer"
   ]
  },
  {
   "cell_type": "markdown",
   "id": "520c0aa1",
   "metadata": {},
   "source": [
    "[ owl:unionOf ( ex:Moon ex:Planemo ex:Star ) ] rdfs:subClassOf ex:AstronomicBody ."
   ]
  },
  {
   "cell_type": "markdown",
   "id": "245f149f",
   "metadata": {},
   "source": [
    "# Exercise 3"
   ]
  },
  {
   "cell_type": "markdown",
   "id": "92efb0a8",
   "metadata": {},
   "source": [
    "Add one axiom to define that an entity (like Charon) cannot be a Planemo and a Moon simultaneously."
   ]
  },
  {
   "cell_type": "markdown",
   "id": "77e50d1f",
   "metadata": {},
   "source": [
    "### Answer"
   ]
  },
  {
   "cell_type": "markdown",
   "id": "32f87e04",
   "metadata": {},
   "source": [
    "ex:Planemo owl:disjointWith ex:Moon ."
   ]
  },
  {
   "cell_type": "markdown",
   "id": "09e2ecb2",
   "metadata": {},
   "source": [
    "# Exercise 4"
   ]
  },
  {
   "cell_type": "markdown",
   "id": "3fb00c2d",
   "metadata": {},
   "source": [
    "Add one axiom to infer that an entity that is a SolarBody and a Planemo is a SolarPlanemo, and that every SolarPlanemo is a SolarBody and a Planemo"
   ]
  },
  {
   "cell_type": "markdown",
   "id": "43a64ccf",
   "metadata": {},
   "source": [
    "### Answer"
   ]
  },
  {
   "cell_type": "markdown",
   "id": "9f4df2ee",
   "metadata": {},
   "source": [
    "ex:SolarPlanemo owl:equivalentClass [ owl:intersectionOf ( ex:SolarBody ex:Planemo ) ] ."
   ]
  },
  {
   "cell_type": "markdown",
   "id": "59b8e5d1",
   "metadata": {},
   "source": [
    "# Exercise 5"
   ]
  },
  {
   "cell_type": "markdown",
   "id": "822d46b3",
   "metadata": {},
   "source": [
    "Add one axiom to define that all children of Planemos must be of type Moon."
   ]
  },
  {
   "cell_type": "markdown",
   "id": "621ee3aa",
   "metadata": {},
   "source": [
    "### Answer"
   ]
  },
  {
   "cell_type": "markdown",
   "id": "d1ea0e70",
   "metadata": {},
   "source": [
    "ex:Planemo rdfs:subClassOf [ owl:allValuesFrom ex:Moon ; owl:onProperty ex:hasChild ] ."
   ]
  },
  {
   "cell_type": "markdown",
   "id": "11d5d19f",
   "metadata": {},
   "source": [
    "# Exercise 6"
   ]
  },
  {
   "cell_type": "markdown",
   "id": "bd8d562d",
   "metadata": {},
   "source": [
    "Add another axiom to define that a TripleStar has precisely two siblings (but not vice-versa; something with two siblings may not be a TripleStar)."
   ]
  },
  {
   "cell_type": "markdown",
   "id": "bf244ab3",
   "metadata": {},
   "source": [
    "### Answer"
   ]
  },
  {
   "cell_type": "markdown",
   "id": "b33b7426",
   "metadata": {},
   "source": [
    "ex:TripleStar rdfs:subClassOf [ owl:cardinality 2 ; owl:onProperty ex:hasSibling ] ."
   ]
  }
 ],
 "metadata": {
  "kernelspec": {
   "display_name": "Python 3 (ipykernel)",
   "language": "python",
   "name": "python3"
  },
  "language_info": {
   "codemirror_mode": {
    "name": "ipython",
    "version": 3
   },
   "file_extension": ".py",
   "mimetype": "text/x-python",
   "name": "python",
   "nbconvert_exporter": "python",
   "pygments_lexer": "ipython3",
   "version": "3.9.7"
  }
 },
 "nbformat": 4,
 "nbformat_minor": 5
}
