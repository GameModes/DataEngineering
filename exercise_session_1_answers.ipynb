{
 "cells": [
  {
   "cell_type": "markdown",
   "metadata": {},
   "source": [
    "# Exercise Session 1"
   ]
  },
  {
   "cell_type": "markdown",
   "metadata": {},
   "source": [
    "### 1- Which of the following is a valid RDF triple?\n",
    "a) :bart :hates _:x .\n",
    "\n",
    "b) :bart _:x :lisa .\n",
    "\n",
    "c) “Bart” :name :bart .\n",
    "\n",
    "\n",
    "d) :bart “loves” :lisa ."
   ]
  },
  {
   "cell_type": "markdown",
   "metadata": {},
   "source": [
    "### Answer"
   ]
  },
  {
   "cell_type": "markdown",
   "metadata": {},
   "source": [
    "a) :bart :hates _:x . Yes\n",
    "\n",
    "b) :bart _:x :lisa . No, because a predicate in\n",
    "RDF cannot be a blank node.\n",
    "\n",
    "c) “Bart” :name :bart . No, because a subject in\n",
    "RDF cannot be a string or literal.\n",
    "\n",
    "d) :bart “loves” :lisa . No, because a predicate\n",
    "cannot be a literal."
   ]
  },
  {
   "cell_type": "markdown",
   "metadata": {},
   "source": [
    "### 2- Transform the following RDF graph into Turtle syntax"
   ]
  },
  {
   "cell_type": "markdown",
   "metadata": {},
   "source": [
    "![Figure](https://git.science.uu.nl/islak001/images/-/raw/master/rdf_graph.png)"
   ]
  },
  {
   "cell_type": "markdown",
   "metadata": {},
   "source": [
    "Figure based on S. Hartling"
   ]
  },
  {
   "cell_type": "markdown",
   "metadata": {},
   "source": [
    "### Answer"
   ]
  },
  {
   "cell_type": "markdown",
   "metadata": {},
   "source": [
    "Please see the \"Reading RDF\" part above."
   ]
  },
  {
   "cell_type": "markdown",
   "metadata": {},
   "source": [
    "### 3- Transform the following sentences into RDF triples.\n",
    "1. Knowledge management is offered at Utrecht University.\n",
    "2. Lisa knows someone who is expert in machine learning.\n",
    "3. The web is created by Sir. Tim Berners-Lee.\n",
    "4. TimBL created the web in 1989 in Geneva, Switzerland.\n",
    "5. Homer Simpson is the husband of Marge Simpson.\n",
    "6. Homer was born on January 1st 1989.\n",
    "7. Homer loves Bart, Lisa and Meggie.\n",
    "8. Homer loves Lisa, Bart and Meggie (in that order).\n",
    "9. Homer loves Lisa or Bart or Maggie.\n",
    "10. Homer loves only Lisa, Bart and Maggie. \n",
    "11. Lisa saw Eric eating ice cream. "
   ]
  },
  {
   "cell_type": "markdown",
   "metadata": {},
   "source": [
    "### Answer"
   ]
  },
  {
   "cell_type": "markdown",
   "metadata": {},
   "source": [
    "1.<br>\n",
    ":KnowledgeManagemet :offeredAt :UtrechtUniversity . <br>\n",
    "\n",
    "2.<br>\n",
    ":Lisa :knows _:x. <br>\n",
    "_:x :expertIn :ML.<br>\n",
    "\n",
    "3.<br>\n",
    ":TheWeb :createdBy :TimBL . <br>\n",
    "\n",
    "4.<br>\n",
    ":TimBL :created :TheWeb . <br>\n",
    ":TheWeb :createdOn \"1989\"^^xsd:date . <br>\n",
    ":TheWeb :foundedInCity :Geneva . <br>\n",
    ":Geneva :inCountry :Switzerland . <br>\n",
    "\n",
    "5.<br>\n",
    ":Homer :husbandOf :Marge .<br>\n",
    "\n",
    "6.<br>\n",
    ":Homer :bornOn \"1989-01-01\"^^xsd:date . <br>\n",
    "\n",
    "7.<br>\n",
    ":Homer :loves _:b .<br>\n",
    "_:b rdf:type rdf:Bag .<br> \n",
    "_:b rdf:_1 :Lisa . <br>\n",
    "_:b rdf:_2 :Bart .<br>\n",
    "_:b rdf:_3 :Maggie .<br>\n",
    "\n",
    "8.<br>\n",
    ":Homer :loves _:b .<br>\n",
    "_:b rdf:type rdf:Seq . <br>\n",
    "_:b rdf:_1 :Lisa . <br>\n",
    "_:b rdf:_2 :Bart .<br>\n",
    "_:b rdf:_3 :Maggie .<br>\n",
    "\n",
    "9.<br>\n",
    ":Homer :loves _:b .<br>\n",
    "_:b rdf:type rdf:Alt . <br>\n",
    "_:b rdf:_1 :Lisa . <br>\n",
    "_:b rdf:_2 :Bart .<br>\n",
    "_:b rdf:_3 :Maggie .<br>\n",
    "\n",
    "10.<br>\n",
    ":Homer :loves _:b1 . <br>\n",
    "_:b1 rdf:first :Lisa . <br>\n",
    "_:b1 rdf:rest _:b2 .<br>\n",
    "_:b2 rdf:first :Bart . <br>\n",
    "_:b2 rdf:rest _:b3 .<br>\n",
    "_:b3 rdf:first :Maggie .<br>\n",
    "_:b3 rdf:rest rdf:nil. <br>\n",
    "\n",
    ":Homer :loves (:Lisa :Bart :Maggie) .<br>\n",
    "\n",
    "11.<br>\n",
    ":Lisa :saw _:b . <br>\n",
    "_:b rdf:type rdf:Statement .<br>\n",
    "_:b rdf:subject :Eric .<br> \n",
    "_:b rdf:predicate :eats . <br>\n",
    "-:b rdf:object :IceCream .<br>"
   ]
  },
  {
   "cell_type": "markdown",
   "metadata": {},
   "source": [
    "### 4- Model the data represented in the following paragraph as an RDF graph (in Turtle syntax)."
   ]
  },
  {
   "cell_type": "markdown",
   "metadata": {},
   "source": [
    "Howard Phillips Lovecraft (H.P. Lovecraft) was an American writer of weird fiction and horror fiction.\n",
    "\n",
    "He was born August 20, 1890 in Providence, Rhode Island, and died on March 15, 1937 of cancer, aged 46.\n",
    "\n",
    "Among his most notable works are (in no particular order) The Rats in the Walls, The Call of Cthulhu and At the Mountains of Madness. The Call of Cthulhu (La Llamada de Cthulhu in Spanish, L’Appel de Cthulhu in French) is a short horror story written in 1926 that was first published in the pulp magazine Weird Tales in February 1928.\n",
    "\n",
    "It consists of three chapters: the first is The Horror in Clay; the second is Th Tale of Inspector Legrasse; the third is The Madness from the Sea. Howard was the only child of Winfield and Sarah Lovecraft.\n",
    "\n",
    "He married Sonia Greene in 1924; they did not have any children"
   ]
  },
  {
   "cell_type": "markdown",
   "metadata": {},
   "source": [
    "### Answer"
   ]
  },
  {
   "cell_type": "raw",
   "metadata": {},
   "source": [
    "@prefix ex: <http://ex.org/>.\n",
    "@prefix rdf: <http://www.w3.org/1999/02/22-rdf-syntax-ns#>.\n",
    "@prefix xsd: <http://www.w3.org/2001/XMLSchema#>.\n",
    "\n",
    "\n",
    "\n",
    "ex:HPLovecraft a ex:AmericanWriter ;\n",
    "ex:genre ex:WeirdFiction , ex:HorrorFiction ;\n",
    "ex:name \"Howard Phillips Lovecraft\" , \"H.P. Lovecraft\" ;\n",
    "ex:dateOfBirth \"1890-08-20\"^^xsd:date ;\n",
    "ex:placeOfBirth ex:Providence ;\n",
    "ex:dateOfDeath \"1937-03-15\"^^xsd:date ;\n",
    "ex:causeOfDeath ex:Cancer ;\n",
    "ex:notableWork ex:TheRatsInTheWalls , ex:TheCallOfCthulhu , ex:AtTheMountainOfMadness .\n",
    "\n",
    "\n",
    "\n",
    "ex:Providence ex:locatedIn ex:RhodeIsland .\n",
    "\n",
    "ex:TheCallOfCthulhu a ex:ShortHorrorStory ;\n",
    "ex:name \"The Call of Cthulhu\"@en , \"La Llamada de Cthulhu\"@es , \"L'Appel de Cthulhu\"@fr ;\n",
    "ex:written \"1926\"^^xsd:gYear ;\n",
    "ex:firstPublishedDate \"1928-02\"^^xsd:gYearMonth ;\n",
    "ex:firstPublishedIn ex:WeirdTales ;\n",
    "ex:chapters ( ex:TheHorrorInClay ex:TheTaleOfTheInspectorLegrasee ex:TheMadnessfromtheSea ) .\n",
    "\n",
    "[] a ex:Couple ;\n",
    "ex:partner ex:WinfieldLovecraft , ex:SarahLovecraft ;\n",
    "ex:children ( ex:HPLovecraft ) .\n",
    "\n",
    "\n",
    "\n",
    "[] a ex:Couple ;\n",
    "ex:partner ex:HPLovecraft , ex:SoniaGreene ;\n",
    "ex:married \"1924\"^^xsd:gYear ;\n",
    "ex:children ( ) ."
   ]
  },
  {
   "cell_type": "markdown",
   "metadata": {},
   "source": [
    "### 5 - Provide a Python code transform Sentence 2, <ins>from **Task 3**</ins>, into an RDF graph"
   ]
  },
  {
   "cell_type": "markdown",
   "metadata": {},
   "source": [
    "### Answer"
   ]
  },
  {
   "cell_type": "code",
   "execution_count": 1,
   "metadata": {},
   "outputs": [
    {
     "name": "stdout",
     "output_type": "stream",
     "text": [
      "@prefix ex: <http://example.org/Resource/> .\n",
      "@prefix terms: <http://example.org/terms/> .\n",
      "\n",
      "ex:Lisa terms:knows [ terms:expertIn ex:ML ] .\n",
      "\n",
      "\n"
     ]
    }
   ],
   "source": [
    "from rdflib import BNode, Graph, Namespace \n",
    "\n",
    "\n",
    "terms = Namespace(\"http://example.org/terms/\")\n",
    "resources = Namespace(\"http://example.org/Resource/\")\n",
    "\n",
    "x = BNode()\n",
    "\n",
    "g2 = Graph()\n",
    "\n",
    "lisa = resources[\"Lisa\"]\n",
    "ml = resources[\"ML\"]\n",
    "knows = terms[\"knows\"]\n",
    "expertIn = terms[\"expertIn\"]\n",
    "\n",
    "g2.bind(\"terms\", terms)\n",
    "g2.bind(\"ex\", resources)\n",
    "\n",
    "g2.add((lisa, knows, x))\n",
    "g2.add((x, expertIn, ml))\n",
    "\n",
    "print(g2.serialize(format=\"turtle\"))"
   ]
  },
  {
   "cell_type": "markdown",
   "metadata": {},
   "source": [
    "### Do the same as above for Sentence 11"
   ]
  },
  {
   "cell_type": "code",
   "execution_count": 2,
   "metadata": {},
   "outputs": [
    {
     "name": "stdout",
     "output_type": "stream",
     "text": [
      "@prefix ns1: <http://example.org/terms/> .\n",
      "@prefix rdf: <http://www.w3.org/1999/02/22-rdf-syntax-ns#> .\n",
      "\n",
      "<http://example.org/Resource/Lisa> ns1:saw [ a rdf:Statement ;\n",
      "            rdf:object <http://example.org/Resource/IceCream> ;\n",
      "            rdf:predicate ns1:eat ;\n",
      "            rdf:subject <http://example.org/Resource/Eric> ] .\n",
      "\n",
      "\n"
     ]
    }
   ],
   "source": [
    "from rdflib import BNode, Graph, Namespace \n",
    "terms = Namespace(\"http://example.org/terms/\")\n",
    "resources = Namespace(\"http://example.org/Resource/\")\n",
    "\n",
    "g5 = Graph()\n",
    "statement = BNode()\n",
    "\n",
    "from rdflib import URIRef\n",
    "subject = URIRef(\"http://example.org/Resource/Lisa\")\n",
    "predicate = URIRef(\"http://example.org/terms/saw\")\n",
    "\n",
    "from rdflib.namespace import RDF\n",
    "g5.add((statement, RDF.type, RDF.Statement))\n",
    "\n",
    "eric = resources[\"Eric\"]\n",
    "eats = terms[\"eat\"]\n",
    "iceCream = resources[\"IceCream\"]\n",
    "\n",
    "g5. add((resources[\"Lisa\"], terms[\"saw\"], statement))\n",
    "g5.add((statement, RDF.subject, eric))\n",
    "g5.add((statement, RDF.predicate, eats))\n",
    "g5.add((statement, RDF.object, iceCream))\n",
    "print(g5.serialize(format=\"turtle\"))"
   ]
  },
  {
   "cell_type": "code",
   "execution_count": null,
   "metadata": {},
   "outputs": [],
   "source": []
  }
 ],
 "metadata": {
  "kernelspec": {
   "display_name": "Python 3 (ipykernel)",
   "language": "python",
   "name": "python3"
  },
  "language_info": {
   "codemirror_mode": {
    "name": "ipython",
    "version": 3
   },
   "file_extension": ".py",
   "mimetype": "text/x-python",
   "name": "python",
   "nbconvert_exporter": "python",
   "pygments_lexer": "ipython3",
   "version": "3.9.7"
  }
 },
 "nbformat": 4,
 "nbformat_minor": 2
}
