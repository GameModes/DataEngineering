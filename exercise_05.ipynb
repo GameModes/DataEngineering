{
 "cells": [
  {
   "cell_type": "markdown",
   "id": "09a0e54b",
   "metadata": {},
   "source": [
    "# Exercise session 5"
   ]
  },
  {
   "cell_type": "markdown",
   "id": "176cab21",
   "metadata": {},
   "source": [
    "## Task 1"
   ]
  },
  {
   "cell_type": "markdown",
   "id": "31d95b31",
   "metadata": {},
   "source": [
    "### Wikidata \n",
    "is a dataset proposed to better organise the data of Wikipedia (used for lists, tables, infoboxes, etc.) in a central, language-agnostic, structured repository. Wikidata is used not only by Wikipedia, but also Google, Alexa, Siri, etc. The dataset is published using Semantic Web standards and provides a SPARQL endpoint that we will use for today's lab to try out some SPARQL queries.\n",
    "\n",
    "\n",
    "Navigate to <a>http://query.wikidata.org/</a>. Here you will find the SPARQL interface for Wikidata.  \n",
    "\n",
    "Tips on querying Wikidata: \n",
    "- In order to find identifiers for entities (like `wd:Q515`) you can write `wd:` in the interface, hold **Ctrl** and press **Spacebar**; this opens a search box were you can type (e.g.) `chile` and get suggested identifiers. On the other hand, for properties, you can type `wdt:` and then hold **Ctrl** and press **Spacebar**.\n",
    "\n",
    "- Wikidata uses its own properties for some properties already defined by the W3C standards. The property `wdt:P31` denotes *instance-of*, which serves the same role as `rdf:type`. The property `wdt:P279` denotes *sub-class-of* which serves the same role as `rdfs:subClassOf`. The expression `wdt:P31/wdt:P279*` is called a *property path*, and it matches nodes connected to `?city` by one `wdt:P31` edge and zero-or-many `wdt:P279` edges; we will talk more about this feature in the next class but for now it suffices to know that the expression `wdt:P31/wdt:P279*` matches instances of classes and transitive sub-classes.\n",
    "\n",
    "- Wikidata provides human-readable labels for entities in many languages.\n",
    "\n",
    "With this in mind, please provide queries to answer the following. "
   ]
  },
  {
   "cell_type": "markdown",
   "id": "4a059ae1",
   "metadata": {},
   "source": [
    "1. Find the capital city of your favourite country (return the name of the city).\n",
    "\n",
    "2. Find the population of the capital city of your favourite country (return the name and population of the city).\n",
    "\n",
    "3. Find the names of winners of the Nobel Prize in Literature that are citizens of your favourite country.\n",
    "\n",
    "4. Find the names of winners of the Nobel Prize in Literature that are citizens of your favourite country and *optionally* the date on which they died.\n",
    "\n",
    "5. Find the names of winners of the Nobel Prize in Chemistry **or** in Physics **or** in Medicine that are citizens of your favourite country.\n",
    "\n",
    "6. Find instances of sovereign states that survive today; i.e., sovereign states without a date for **dissolved, abolished or demolished**.\n",
    "\n",
    "7. Find the top ten wealthiest instances -- according to nominal GDP  per capita -- of sovereign states that survive today  (return the name of the country and its GDP).\n",
    "\n",
    "8. Find instances of sovereign states that survive today with more than one capital city (return the name of the country in English)."
   ]
  },
  {
   "cell_type": "markdown",
   "id": "a9f092e7",
   "metadata": {},
   "source": [
    "## Task 2"
   ]
  },
  {
   "cell_type": "markdown",
   "id": "cf11f340",
   "metadata": {},
   "source": [
    "### Using Blazegraph on the Nobel Laureates Dataset\n",
    "\n",
    "Provide queries to answer the following: \n",
    "\n",
    "i. Find the names Nobel prize winners who are affiliated with (or have alma mater) Utrech University.\n",
    "\n",
    "ii. Find the name(s) of the youngest Nobel prize winner in Physics?\n",
    "\n",
    "iii. Find the name(s) of the youngest Nobel Prize winner in Physics with the gender category 'Male'.\n",
    "\n",
    "iv. List the names of entities/individuals who have won the Nobel Prize multiple times.\n",
    "\n",
    "v. What is the average age of Nobel prize winners in physics? Chemistry? Literatuer? \n",
    "\n",
    "vi. What is the average age, categorized by gender, of Nobel Prize winners in Physics? Chemistry? Literatuer? \n",
    "\n",
    "vii. Find the number of entities that have won the Nobel prize multiple times.\n",
    "\n",
    "viii. List the countries that have nationals who have been awarded Nobel Prizes in descending order of the number of awards received.\n"
   ]
  },
  {
   "cell_type": "code",
   "execution_count": null,
   "id": "4c320164",
   "metadata": {},
   "outputs": [],
   "source": []
  }
 ],
 "metadata": {
  "kernelspec": {
   "display_name": "Python 3 (ipykernel)",
   "language": "python",
   "name": "python3"
  },
  "language_info": {
   "codemirror_mode": {
    "name": "ipython",
    "version": 3
   },
   "file_extension": ".py",
   "mimetype": "text/x-python",
   "name": "python",
   "nbconvert_exporter": "python",
   "pygments_lexer": "ipython3",
   "version": "3.9.7"
  }
 },
 "nbformat": 4,
 "nbformat_minor": 5
}
