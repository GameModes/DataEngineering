{
 "cells": [
  {
   "cell_type": "markdown",
   "metadata": {},
   "source": [
    "# Exercise Session 2"
   ]
  },
  {
   "cell_type": "markdown",
   "metadata": {},
   "source": [
    "### 1- Modeling with RDF\n",
    "a. It is possible to reach Amsterdam either by train, by bus, or by plane.<br>\n",
    "b. Amsterdam can only be reached by train, by bus or by plane."
   ]
  },
  {
   "cell_type": "markdown",
   "metadata": {},
   "source": [
    "### 2- Create an RDF model that represents the following statements: <br> \n",
    "a). <http://ex.org/Resource/Document1> is created by John.  <br>\n",
    "b). <http://ex.org/Resource/Document2> and <http://ex.org/Resource/Document3> are created by an unknown author. <br>\n",
    "c). <http://ex.org/Document3> says that <http://ex.org/Document1> is published by W3C.\n",
    "\n",
    "You can make of use of the predicates http://purl.org/dc/elements/1.1/creator  and http://purl.org/dc/elements/1.1/publisher to create the model.\n",
    "        "
   ]
  },
  {
   "cell_type": "markdown",
   "metadata": {},
   "source": [
    "### 3- Using FOAF\n",
    "\n",
    "Create your own FOAF profile using the Turtle syntax.\n",
    "\n",
    "FOAF = friend of a friend <br>\n",
    "• FOAF is a vocabulary to describe people and their social networks. <br>\n",
    "• Prefix foaf: <http://xmlns.com/foaf/0.1/>\n",
    "\n",
    "a) Create your own FOAF profile using the Turtle syntax. <br>\n",
    "b) Convert the Turtle syntax into RDF/XML.\n",
    "\n",
    "You can use the FOAF generator http://www.ldodds.com/foaf/foaf-a-matic.html to verify\n",
    "your results."
   ]
  },
  {
   "cell_type": "markdown",
   "metadata": {},
   "source": [
    "### 4- Reification"
   ]
  },
  {
   "cell_type": "markdown",
   "metadata": {},
   "source": [
    "Create an RDF graph that represents the following statement:\n",
    "\n",
    "John claims that the creator of the resource http://www.amazon.com is Jeff Bezos. "
   ]
  },
  {
   "cell_type": "markdown",
   "metadata": {},
   "source": [
    "### 5- Searching RDF through programming  \n",
    "\n",
    "Given the following RDF graph, write a Python program to extend it with additional triples. Retrieve these triples from DBpedia, focusing on Utrecht's population, latitude, and longitude, along with the country to which it belongs. This extension allows us to answers the query \"what is the population of the city in which Utrecht University, offering the course in Knowledge Engineering, is located?\" \n",
    "\n",
    "    @prefix ex: <http://ex.org/>\n",
    "    @prefix db: <https://dbpedia.org/resource/>\n",
    "    ex:KDE ex:offeredAt ex:UtrechtUniversity . \n",
    "    ex:UtrechtUniversity ex:locatedIn db:Utrecht ."
   ]
  },
  {
   "cell_type": "markdown",
   "metadata": {},
   "source": [
    "# Modeling and Inference with RDFS"
   ]
  },
  {
   "cell_type": "markdown",
   "metadata": {},
   "source": [
    "### 6- RDF Schema for Mythological and Legendary Figures\n",
    "\n",
    "We will use RDFS to define some semantics for classes and properties relating to mythological and legendary figures and use these definitions to infer new data in the RDF graph. \n",
    "\n",
    "    @prefix ex:  <http://ex.org/>.\n",
    "    @prefix rdf: <http://www.w3.org/1999/02/22-rdf-syntax-ns#>.\n",
    "    @prefix rdfs: <http://www.w3.org/2000/01/rdf-schema#>.\n",
    "    @prefix xsd: <http://www.w3.org/2001/XMLSchema#>.\n",
    "    ex:CuChulainn a ex:Genma ;\n",
    "        ex:knownAs [ ex:name \"Cú Chulainn\"; ex:meaning \"Culann's Hound\"@en ] ;\n",
    "        ex:knownAs [ ex:name \"Sétanta\" ] .\n",
    "    ex:Ahriman a ex:Vile ;\n",
    "        ex:knownAs [ ex:name \"Ahriman\" ] ;\n",
    "        ex:knownAs [ ex:name \"Angra Mainyu\" ; ex:meaning \"Destructive Spirit\"@en ] .\n",
    "    ex:Vishnu a ex:Deity ;\n",
    "        ex:consort ex:Lakshmi ;\n",
    "        ex:knownAs [ ex:name \"Vishnu\" ; ex:meaning \"All pervasive\"@en ] .\n",
    "    ex:Lakshmi a ex:God ;\n",
    "        ex:consort ex:Vishnu ;\n",
    "        ex:commonlyKnownAs [ ex:name \"Lakshmi\" ; ex:meaning \"Know and understand your goal\"@en ] .\n",
    "    ex:Vile ex:alignment ex:Lawful , ex:Evil .\n",
    "    ex:Genma ex:alignment ex:LawfulNeutral .\n",
    "    ex:LawfulGood a ex:Alignment .\n",
    "    ex:LawfulEvil a ex:Alignment .\n",
    "    \n",
    "    \n",
    "Note that RDF terms are case sensitive; the convention is to use lower (camel) case for properties, like ex:alignment and proper (camel) case for classes and entities, like ex:Alignment. The answer to each question should be kept and extended (some questions depend on previous answers).\n",
    "\n",
    "1. Add one  RDFS (range) triple to infer:\n",
    "    \n",
    "        x:Lawful a ex:Alignment .   \n",
    "        ex:Evil a ex:Alignment .     \n",
    "        ex:LawfulNeutral a ex:Alignment .\n",
    "    \n",
    "2. Add one RDFS (domain) triple to infer:\n",
    "    \n",
    "        ex:CuChulainn a ex:Entity .  \n",
    "        ex:Ahriman a ex:Entity .     \n",
    "        ex:Vishnu a ex:Entity .             \n",
    "    \n",
    "3. Add one RDFS (subproperty) triple to infer:\n",
    "    \n",
    "        ex:Vishnu ex:companion ex:Lakshmi .  \n",
    "        ex:Lakshmi ex:companion ex:Vishnu .\n"
   ]
  },
  {
   "cell_type": "code",
   "execution_count": null,
   "metadata": {},
   "outputs": [],
   "source": []
  },
  {
   "cell_type": "markdown",
   "metadata": {},
   "source": [
    "### 7- RDFS inference through rdflib and owlrl\n",
    "\n",
    "If you haven't done so already, install the packages rdflib and owlrl using:\n",
    "\n",
    "    !pip install rdflib\n",
    "    !pip install owlrl\n",
    "\n",
    "* See the [rdflib documention](https://rdflib.readthedocs.io/en/stable/index.html) for full documentation on rdflib\n",
    "* See the [owlrl documentation](https://owl-rl.readthedocs.io/en/latest/) for information on rdfs and owl-rl reasoning\n",
    "\n",
    "For the questions from the above task (*Task 6*), provide code that allows to perform inference on the above ontology. \n"
   ]
  },
  {
   "cell_type": "markdown",
   "metadata": {},
   "source": [
    "#### import rdflib and owlrl\n",
    " * [owlrl](https://owl-rl.readthedocs.io/en/latest/) provides functions that allow to infer triples from RDFS  ontologies."
   ]
  },
  {
   "cell_type": "code",
   "execution_count": null,
   "metadata": {},
   "outputs": [],
   "source": [
    "from rdflib import Graph, Namespace, Literal, URIRef\n",
    "from owlrl.CombinedClosure import RDFS_OWLRL_Semantics"
   ]
  },
  {
   "cell_type": "code",
   "execution_count": null,
   "metadata": {},
   "outputs": [],
   "source": [
    "# add to graph g (Ontology in Task 6) all triples inferred by the RDFS  \n",
    "owlrl.RDFSClosure.RDFS_Semantics(g, False, False, False)"
   ]
  },
  {
   "cell_type": "markdown",
   "metadata": {},
   "source": [
    "### 8- modeling in RDFS\n",
    "\n",
    "1. Expand the following RDFS ontology and data with additional axioms. \n",
    "\n",
    "\n",
    "        rdfs_ontology = \"\"\"\n",
    "        @prefix terms: <http://example.org/ontology/> .\n",
    "        @prefix rdfs: <http://www.w3.org/2000/01/rdf-schema#> .\n",
    "\n",
    "        terms:Person a rdfs:Class; rdfs:subClassOf terms:Mammal .\n",
    "        terms:spouse rdfs:domain terms:Person;\n",
    "                rdfs:range terms:Person.\n",
    "        \"\"\"\n",
    "\n",
    "        data = \"\"\"\n",
    "            @prefix ex: <http://example.org/> .\n",
    "            @prefix terms: <http://example.org/ontology/> .\n",
    "            ex:john terms:spouse ex:mary.\n",
    "        \"\"\"\n",
    "\n",
    "2. Provide the triples that can be inferred from the extended graph using rdflib and owlrl. "
   ]
  },
  {
   "cell_type": "code",
   "execution_count": null,
   "metadata": {},
   "outputs": [],
   "source": []
  }
 ],
 "metadata": {
  "kernelspec": {
   "display_name": "Python 3 (ipykernel)",
   "language": "python",
   "name": "python3"
  },
  "language_info": {
   "codemirror_mode": {
    "name": "ipython",
    "version": 3
   },
   "file_extension": ".py",
   "mimetype": "text/x-python",
   "name": "python",
   "nbconvert_exporter": "python",
   "pygments_lexer": "ipython3",
   "version": "3.9.7"
  }
 },
 "nbformat": 4,
 "nbformat_minor": 2
}
